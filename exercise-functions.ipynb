{
 "cells": [
  {
   "cell_type": "markdown",
   "id": "8b463b5c",
   "metadata": {
    "papermill": {
     "duration": 0.005564,
     "end_time": "2025-01-20T11:13:49.623142",
     "exception": false,
     "start_time": "2025-01-20T11:13:49.617578",
     "status": "completed"
    },
    "tags": []
   },
   "source": [
    "**This notebook is an exercise in the [Intro to Programming](https://www.kaggle.com/learn/intro-to-programming) course.  You can reference the tutorial at [this link](https://www.kaggle.com/alexisbcook/functions).**\n",
    "\n",
    "---\n"
   ]
  },
  {
   "cell_type": "markdown",
   "id": "43d1cafb",
   "metadata": {
    "papermill": {
     "duration": 0.004695,
     "end_time": "2025-01-20T11:13:49.633000",
     "exception": false,
     "start_time": "2025-01-20T11:13:49.628305",
     "status": "completed"
    },
    "tags": []
   },
   "source": [
    "In the tutorial, you learned about functions. In this exercise, you'll write some of your own!\n",
    "\n",
    "# Set up the notebook\n",
    "\n",
    "Run the next code cell without changes to set up the notebook."
   ]
  },
  {
   "cell_type": "code",
   "execution_count": 1,
   "id": "93a4c32d",
   "metadata": {
    "execution": {
     "iopub.execute_input": "2025-01-20T11:13:49.644223Z",
     "iopub.status.busy": "2025-01-20T11:13:49.643883Z",
     "iopub.status.idle": "2025-01-20T11:13:50.642527Z",
     "shell.execute_reply": "2025-01-20T11:13:50.641357Z"
    },
    "papermill": {
     "duration": 1.006389,
     "end_time": "2025-01-20T11:13:50.644309",
     "exception": false,
     "start_time": "2025-01-20T11:13:49.637920",
     "status": "completed"
    },
    "tags": []
   },
   "outputs": [
    {
     "name": "stdout",
     "output_type": "stream",
     "text": [
      "Setup complete.\n"
     ]
    }
   ],
   "source": [
    "# Set up the exercise\n",
    "import math\n",
    "from learntools.core import binder\n",
    "binder.bind(globals())\n",
    "from learntools.intro_to_programming.ex2 import *\n",
    "print('Setup complete.')"
   ]
  },
  {
   "cell_type": "markdown",
   "id": "769e1ca3",
   "metadata": {
    "papermill": {
     "duration": 0.004799,
     "end_time": "2025-01-20T11:13:50.654290",
     "exception": false,
     "start_time": "2025-01-20T11:13:50.649491",
     "status": "completed"
    },
    "tags": []
   },
   "source": [
    "# Question 1\n",
    "\n",
    "In the [House Prices - Advanced Regression Techniques competition](https://www.kaggle.com/c/house-prices-advanced-regression-techniques/overview), you need to use information like the number of bedrooms and bathrooms to predict the price of a house.  Inspired by this competition, you'll write your own function to do this.\n",
    "\n",
    "In the next code cell, create a function `get_expected_cost()` that has two arguments:\n",
    "- `beds` - number of bedrooms \n",
    "- `baths` - number of bathrooms\n",
    "\n",
    "It should return the expected cost of a house with that number of bedrooms and bathrooms.  Assume that:\n",
    "- the expected cost for a house with 0 bedrooms and 0 bathrooms is `80000`.  \n",
    "- each bedroom adds `30000` to the expected cost\n",
    "- each bathroom adds `10000` to the expected cost.\n",
    "\n",
    "For instance, \n",
    "- a house with 1 bedroom and 1 bathroom has an expected cost of `120000`, and \n",
    "- a house with 2 bedrooms and 1 bathroom has an expected cost of `150000`."
   ]
  },
  {
   "cell_type": "code",
   "execution_count": 2,
   "id": "75a678aa",
   "metadata": {
    "execution": {
     "iopub.execute_input": "2025-01-20T11:13:50.665897Z",
     "iopub.status.busy": "2025-01-20T11:13:50.665366Z",
     "iopub.status.idle": "2025-01-20T11:13:50.674785Z",
     "shell.execute_reply": "2025-01-20T11:13:50.673706Z"
    },
    "papermill": {
     "duration": 0.017056,
     "end_time": "2025-01-20T11:13:50.676446",
     "exception": false,
     "start_time": "2025-01-20T11:13:50.659390",
     "status": "completed"
    },
    "tags": []
   },
   "outputs": [
    {
     "data": {
      "application/javascript": [
       "parent.postMessage({\"jupyterEvent\": \"custom.exercise_interaction\", \"data\": {\"outcomeType\": 1, \"valueTowardsCompletion\": 0.2, \"interactionType\": 1, \"questionType\": 2, \"questionId\": \"1_GetExpectedCost\", \"learnToolsVersion\": \"0.3.4\", \"failureMessage\": \"\", \"exceptionClass\": \"\", \"trace\": \"\"}}, \"*\")"
      ],
      "text/plain": [
       "<IPython.core.display.Javascript object>"
      ]
     },
     "metadata": {},
     "output_type": "display_data"
    },
    {
     "data": {
      "text/markdown": [
       "<span style=\"color:#33cc33\">Correct</span>"
      ],
      "text/plain": [
       "Correct"
      ]
     },
     "metadata": {},
     "output_type": "display_data"
    }
   ],
   "source": [
    "# TODO: Complete the function\n",
    "def get_expected_cost(beds, baths):\n",
    "    value = 80000 + ((beds * 30000) + (baths * 10000))\n",
    "    return value\n",
    "\n",
    "# Check your answer \n",
    "q1.check()"
   ]
  },
  {
   "cell_type": "code",
   "execution_count": 3,
   "id": "b4274b8e",
   "metadata": {
    "execution": {
     "iopub.execute_input": "2025-01-20T11:13:50.688418Z",
     "iopub.status.busy": "2025-01-20T11:13:50.688069Z",
     "iopub.status.idle": "2025-01-20T11:13:50.691982Z",
     "shell.execute_reply": "2025-01-20T11:13:50.690979Z"
    },
    "papermill": {
     "duration": 0.011657,
     "end_time": "2025-01-20T11:13:50.693562",
     "exception": false,
     "start_time": "2025-01-20T11:13:50.681905",
     "status": "completed"
    },
    "tags": []
   },
   "outputs": [],
   "source": [
    "# Uncomment to see a hint\n",
    "#q1.hint()\n",
    "\n",
    "# Uncomment to view the solution\n",
    "#q1.solution()"
   ]
  },
  {
   "cell_type": "markdown",
   "id": "c44f6ab8",
   "metadata": {
    "papermill": {
     "duration": 0.004837,
     "end_time": "2025-01-20T11:13:50.703743",
     "exception": false,
     "start_time": "2025-01-20T11:13:50.698906",
     "status": "completed"
    },
    "tags": []
   },
   "source": [
    "# Question 2\n",
    "\n",
    "You are thinking about buying a home and want to get an idea of how much you will spend, based on the number of bedrooms and bathrooms.  You are trying to decide between four different options:\n",
    "- Option 1: house with two bedrooms and three bathrooms\n",
    "- Option 2: house with three bedrooms and two bathrooms\n",
    "- Option 3: house with three bedrooms and three bathrooms\n",
    "- Option 4: house with three bedrooms and four bathrooms\n",
    "\n",
    "Use the `get_expected_cost()` function you defined in question 1 to set `option_1`, `option_2`, `option_3`, and `option_4` to the expected cost of each option."
   ]
  },
  {
   "cell_type": "code",
   "execution_count": 4,
   "id": "1d1941f3",
   "metadata": {
    "execution": {
     "iopub.execute_input": "2025-01-20T11:13:50.715273Z",
     "iopub.status.busy": "2025-01-20T11:13:50.714919Z",
     "iopub.status.idle": "2025-01-20T11:13:50.725286Z",
     "shell.execute_reply": "2025-01-20T11:13:50.724327Z"
    },
    "papermill": {
     "duration": 0.01815,
     "end_time": "2025-01-20T11:13:50.726947",
     "exception": false,
     "start_time": "2025-01-20T11:13:50.708797",
     "status": "completed"
    },
    "tags": []
   },
   "outputs": [
    {
     "name": "stdout",
     "output_type": "stream",
     "text": [
      "170000\n",
      "190000\n",
      "200000\n",
      "210000\n"
     ]
    },
    {
     "data": {
      "application/javascript": [
       "parent.postMessage({\"jupyterEvent\": \"custom.exercise_interaction\", \"data\": {\"outcomeType\": 1, \"valueTowardsCompletion\": 0.2, \"interactionType\": 1, \"questionType\": 1, \"questionId\": \"2_RunGetExpectedCost\", \"learnToolsVersion\": \"0.3.4\", \"failureMessage\": \"\", \"exceptionClass\": \"\", \"trace\": \"\"}}, \"*\")"
      ],
      "text/plain": [
       "<IPython.core.display.Javascript object>"
      ]
     },
     "metadata": {},
     "output_type": "display_data"
    },
    {
     "data": {
      "text/markdown": [
       "<span style=\"color:#33cc33\">Correct</span>"
      ],
      "text/plain": [
       "Correct"
      ]
     },
     "metadata": {},
     "output_type": "display_data"
    }
   ],
   "source": [
    "# TODO: Use the get_expected_cost function to fill in each value\n",
    "option_one = get_expected_cost(2,3)\n",
    "option_two = get_expected_cost(3,2)\n",
    "option_three = get_expected_cost(3,3)\n",
    "option_four = get_expected_cost(3,4)\n",
    "\n",
    "print(option_one)\n",
    "print(option_two)\n",
    "print(option_three)\n",
    "print(option_four)\n",
    "\n",
    "# Check your answer\n",
    "q2.check()"
   ]
  },
  {
   "cell_type": "code",
   "execution_count": 5,
   "id": "b92131ed",
   "metadata": {
    "execution": {
     "iopub.execute_input": "2025-01-20T11:13:50.739349Z",
     "iopub.status.busy": "2025-01-20T11:13:50.739013Z",
     "iopub.status.idle": "2025-01-20T11:13:50.742869Z",
     "shell.execute_reply": "2025-01-20T11:13:50.741594Z"
    },
    "papermill": {
     "duration": 0.011835,
     "end_time": "2025-01-20T11:13:50.744481",
     "exception": false,
     "start_time": "2025-01-20T11:13:50.732646",
     "status": "completed"
    },
    "tags": []
   },
   "outputs": [],
   "source": [
    "# Uncomment to see a hint\n",
    "#q2.hint()\n",
    "\n",
    "# Uncomment to view the solution\n",
    "#q2.solution()"
   ]
  },
  {
   "cell_type": "markdown",
   "id": "5bf729ef",
   "metadata": {
    "papermill": {
     "duration": 0.005252,
     "end_time": "2025-01-20T11:13:50.755493",
     "exception": false,
     "start_time": "2025-01-20T11:13:50.750241",
     "status": "completed"
    },
    "tags": []
   },
   "source": [
    "# Question 3\n",
    "\n",
    "You're a home decorator, and you'd like to use Python to streamline some of your work.  Specifically, you're creating a tool that you intend to use to calculate the cost of painting a room.\n",
    "\n",
    "As a first step, define a function `get_cost()` that takes as input:\n",
    "- `sqft_walls` = total square feet of walls to be painted\n",
    "- `sqft_ceiling` = square feet of ceiling to be painted\n",
    "- `sqft_per_gallon` = number of square feet that you can cover with one gallon of paint\n",
    "- `cost_per_gallon` = cost (in dollars) of one gallon of paint\n",
    "\n",
    "It should return the cost (in dollars) of putting one coat of paint on all walls and the ceiling.  Assume you can buy the exact amount of paint that you need, so you can buy partial gallons (e.g., if you need 7.523 gallons, you can buy that exact amount, instead of needing to buy 8 gallons and waste some paint).  Do not round your answer."
   ]
  },
  {
   "cell_type": "code",
   "execution_count": 6,
   "id": "6fccd72f",
   "metadata": {
    "execution": {
     "iopub.execute_input": "2025-01-20T11:13:50.767854Z",
     "iopub.status.busy": "2025-01-20T11:13:50.767416Z",
     "iopub.status.idle": "2025-01-20T11:13:50.775643Z",
     "shell.execute_reply": "2025-01-20T11:13:50.774502Z"
    },
    "papermill": {
     "duration": 0.016369,
     "end_time": "2025-01-20T11:13:50.777393",
     "exception": false,
     "start_time": "2025-01-20T11:13:50.761024",
     "status": "completed"
    },
    "tags": []
   },
   "outputs": [
    {
     "data": {
      "application/javascript": [
       "parent.postMessage({\"jupyterEvent\": \"custom.exercise_interaction\", \"data\": {\"outcomeType\": 1, \"valueTowardsCompletion\": 0.2, \"interactionType\": 1, \"questionType\": 2, \"questionId\": \"3_GetCostPaint\", \"learnToolsVersion\": \"0.3.4\", \"failureMessage\": \"\", \"exceptionClass\": \"\", \"trace\": \"\"}}, \"*\")"
      ],
      "text/plain": [
       "<IPython.core.display.Javascript object>"
      ]
     },
     "metadata": {},
     "output_type": "display_data"
    },
    {
     "data": {
      "text/markdown": [
       "<span style=\"color:#33cc33\">Correct</span>"
      ],
      "text/plain": [
       "Correct"
      ]
     },
     "metadata": {},
     "output_type": "display_data"
    }
   ],
   "source": [
    "# TODO: Finish defining the function\n",
    "def get_cost(sqft_walls, sqft_ceiling, sqft_per_gallon, cost_per_gallon):\n",
    "    total_gallons = (sqft_walls + sqft_ceiling) / sqft_per_gallon\n",
    "    cost = total_gallons * cost_per_gallon\n",
    "    return cost\n",
    "\n",
    "# Check your answer\n",
    "q3.check()"
   ]
  },
  {
   "cell_type": "code",
   "execution_count": 7,
   "id": "3fe2b715",
   "metadata": {
    "execution": {
     "iopub.execute_input": "2025-01-20T11:13:50.790508Z",
     "iopub.status.busy": "2025-01-20T11:13:50.790171Z",
     "iopub.status.idle": "2025-01-20T11:13:50.794089Z",
     "shell.execute_reply": "2025-01-20T11:13:50.793133Z"
    },
    "papermill": {
     "duration": 0.01218,
     "end_time": "2025-01-20T11:13:50.795703",
     "exception": false,
     "start_time": "2025-01-20T11:13:50.783523",
     "status": "completed"
    },
    "tags": []
   },
   "outputs": [],
   "source": [
    "# Uncomment to see a hint\n",
    "#q3.hint()\n",
    "\n",
    "# Uncomment to view the solution\n",
    "#q3.solution()"
   ]
  },
  {
   "cell_type": "markdown",
   "id": "d5f6e6a0",
   "metadata": {
    "papermill": {
     "duration": 0.005381,
     "end_time": "2025-01-20T11:13:50.806765",
     "exception": false,
     "start_time": "2025-01-20T11:13:50.801384",
     "status": "completed"
    },
    "tags": []
   },
   "source": [
    "# Question 4\n",
    "\n",
    "Use the `get_cost()` function you defined in Question 3 to calculate the cost of applying one coat of paint to a room with:\n",
    "- 432 square feet of walls, and\n",
    "- 144 square feet of ceiling.\n",
    "\n",
    "Assume that one gallon of paint covers 400 square feet and costs $15.  As in Question 3, assume you can buy partial gallons of paint.  Do not round your answer."
   ]
  },
  {
   "cell_type": "code",
   "execution_count": 8,
   "id": "333a633b",
   "metadata": {
    "execution": {
     "iopub.execute_input": "2025-01-20T11:13:50.819277Z",
     "iopub.status.busy": "2025-01-20T11:13:50.818931Z",
     "iopub.status.idle": "2025-01-20T11:13:50.826563Z",
     "shell.execute_reply": "2025-01-20T11:13:50.825442Z"
    },
    "papermill": {
     "duration": 0.015795,
     "end_time": "2025-01-20T11:13:50.828223",
     "exception": false,
     "start_time": "2025-01-20T11:13:50.812428",
     "status": "completed"
    },
    "tags": []
   },
   "outputs": [
    {
     "data": {
      "application/javascript": [
       "parent.postMessage({\"jupyterEvent\": \"custom.exercise_interaction\", \"data\": {\"outcomeType\": 1, \"valueTowardsCompletion\": 0.2, \"interactionType\": 1, \"questionType\": 1, \"questionId\": \"4_GetCostPaintExample\", \"learnToolsVersion\": \"0.3.4\", \"failureMessage\": \"\", \"exceptionClass\": \"\", \"trace\": \"\"}}, \"*\")"
      ],
      "text/plain": [
       "<IPython.core.display.Javascript object>"
      ]
     },
     "metadata": {},
     "output_type": "display_data"
    },
    {
     "data": {
      "text/markdown": [
       "<span style=\"color:#33cc33\">Correct</span>"
      ],
      "text/plain": [
       "Correct"
      ]
     },
     "metadata": {},
     "output_type": "display_data"
    }
   ],
   "source": [
    "# TODO: Set the project_cost variable to the cost of the project\n",
    "project_cost = get_cost(432,144,400,15)\n",
    "\n",
    "# Check your answer\n",
    "q4.check()"
   ]
  },
  {
   "cell_type": "code",
   "execution_count": 9,
   "id": "104560ac",
   "metadata": {
    "execution": {
     "iopub.execute_input": "2025-01-20T11:13:50.841552Z",
     "iopub.status.busy": "2025-01-20T11:13:50.841199Z",
     "iopub.status.idle": "2025-01-20T11:13:50.845120Z",
     "shell.execute_reply": "2025-01-20T11:13:50.844086Z"
    },
    "papermill": {
     "duration": 0.012556,
     "end_time": "2025-01-20T11:13:50.846992",
     "exception": false,
     "start_time": "2025-01-20T11:13:50.834436",
     "status": "completed"
    },
    "tags": []
   },
   "outputs": [],
   "source": [
    "# Uncomment to see a hint\n",
    "#q4.hint()\n",
    "\n",
    "# Uncomment to view the solution\n",
    "#q4.solution()"
   ]
  },
  {
   "cell_type": "markdown",
   "id": "ecfc83b2",
   "metadata": {
    "papermill": {
     "duration": 0.005669,
     "end_time": "2025-01-20T11:13:50.859216",
     "exception": false,
     "start_time": "2025-01-20T11:13:50.853547",
     "status": "completed"
    },
    "tags": []
   },
   "source": [
    "# 🌶️ Question 5\n",
    "\n",
    "Now say you can no longer buy fractions of a gallon.  (For instance, if you need 4.3 gallons to do a project, then you have to buy 5 gallons of paint.)\n",
    "\n",
    "With this new scenario, you will create a new function `get_actual_cost` that uses the same inputs and calculates the cost of your project.\n",
    "\n",
    "One function that you'll need to use to do this is `math.ceil()`.  We demonstrate usage of this function in the code cell below.  It takes as a number as input and rounds the number up to the nearest integer.  \n",
    "\n",
    "Run the next code cell to test this function for yourself.  Feel free to change the value of `test_value` and make sure `math.ceil()` returns the number you expect."
   ]
  },
  {
   "cell_type": "code",
   "execution_count": 10,
   "id": "309948d3",
   "metadata": {
    "execution": {
     "iopub.execute_input": "2025-01-20T11:13:50.872193Z",
     "iopub.status.busy": "2025-01-20T11:13:50.871845Z",
     "iopub.status.idle": "2025-01-20T11:13:50.877295Z",
     "shell.execute_reply": "2025-01-20T11:13:50.876002Z"
    },
    "papermill": {
     "duration": 0.014064,
     "end_time": "2025-01-20T11:13:50.879140",
     "exception": false,
     "start_time": "2025-01-20T11:13:50.865076",
     "status": "completed"
    },
    "tags": []
   },
   "outputs": [
    {
     "name": "stdout",
     "output_type": "stream",
     "text": [
      "3\n"
     ]
    }
   ],
   "source": [
    "test_value = 2.88\n",
    "\n",
    "rounded_value = math.ceil(test_value)\n",
    "print(rounded_value)"
   ]
  },
  {
   "cell_type": "markdown",
   "id": "2a96532a",
   "metadata": {
    "papermill": {
     "duration": 0.005637,
     "end_time": "2025-01-20T11:13:50.891002",
     "exception": false,
     "start_time": "2025-01-20T11:13:50.885365",
     "status": "completed"
    },
    "tags": []
   },
   "source": [
    "Use the next code cell to define the function `get_actual_cost()`.  You'll need to use the `math.ceil()` function to do this.\n",
    "\n",
    "When answering this question, note that it's completely valid to define a function that makes use of another function.  For instance, we can define a function `round_up_and_divide_by_three` that makes use of the `math.ceil` function:\n",
    "```\n",
    "def round_up_and_divide_by_three(num):\n",
    "    new_value = math.ceil(num)\n",
    "    final_value = new_value / 3\n",
    "    return final_value\n",
    "```"
   ]
  },
  {
   "cell_type": "code",
   "execution_count": 11,
   "id": "75b47f62",
   "metadata": {
    "execution": {
     "iopub.execute_input": "2025-01-20T11:13:50.904483Z",
     "iopub.status.busy": "2025-01-20T11:13:50.904142Z",
     "iopub.status.idle": "2025-01-20T11:13:50.912338Z",
     "shell.execute_reply": "2025-01-20T11:13:50.911235Z"
    },
    "papermill": {
     "duration": 0.017275,
     "end_time": "2025-01-20T11:13:50.914233",
     "exception": false,
     "start_time": "2025-01-20T11:13:50.896958",
     "status": "completed"
    },
    "tags": []
   },
   "outputs": [
    {
     "data": {
      "application/javascript": [
       "parent.postMessage({\"jupyterEvent\": \"custom.exercise_interaction\", \"data\": {\"outcomeType\": 1, \"valueTowardsCompletion\": 0.2, \"interactionType\": 1, \"questionType\": 2, \"questionId\": \"5_NoMoreFractions\", \"learnToolsVersion\": \"0.3.4\", \"failureMessage\": \"\", \"exceptionClass\": \"\", \"trace\": \"\"}}, \"*\")"
      ],
      "text/plain": [
       "<IPython.core.display.Javascript object>"
      ]
     },
     "metadata": {},
     "output_type": "display_data"
    },
    {
     "data": {
      "text/markdown": [
       "<span style=\"color:#33cc33\">Correct</span>"
      ],
      "text/plain": [
       "Correct"
      ]
     },
     "metadata": {},
     "output_type": "display_data"
    }
   ],
   "source": [
    "def get_actual_cost(sqft_walls, sqft_ceiling, sqft_per_gallon, cost_per_gallon):\n",
    "    total_gallons = math.ceil((sqft_walls + sqft_ceiling) / sqft_per_gallon)\n",
    "    cost = total_gallons * cost_per_gallon\n",
    "    return cost\n",
    "\n",
    "# Check your answer\n",
    "q5.check()"
   ]
  },
  {
   "cell_type": "code",
   "execution_count": 12,
   "id": "3509a4c6",
   "metadata": {
    "execution": {
     "iopub.execute_input": "2025-01-20T11:13:50.928503Z",
     "iopub.status.busy": "2025-01-20T11:13:50.928160Z",
     "iopub.status.idle": "2025-01-20T11:13:50.932173Z",
     "shell.execute_reply": "2025-01-20T11:13:50.931247Z"
    },
    "papermill": {
     "duration": 0.012642,
     "end_time": "2025-01-20T11:13:50.933737",
     "exception": false,
     "start_time": "2025-01-20T11:13:50.921095",
     "status": "completed"
    },
    "tags": []
   },
   "outputs": [],
   "source": [
    "# Uncomment to see a hint\n",
    "#q5.hint()\n",
    "\n",
    "# Uncomment to view the solution\n",
    "#q5.solution()"
   ]
  },
  {
   "cell_type": "markdown",
   "id": "3e9bf8dd",
   "metadata": {
    "papermill": {
     "duration": 0.005868,
     "end_time": "2025-01-20T11:13:50.946066",
     "exception": false,
     "start_time": "2025-01-20T11:13:50.940198",
     "status": "completed"
    },
    "tags": []
   },
   "source": [
    "Once your function is verified as correct, run the next code cell to calculate the updated cost of your project."
   ]
  },
  {
   "cell_type": "code",
   "execution_count": 13,
   "id": "7afe2636",
   "metadata": {
    "execution": {
     "iopub.execute_input": "2025-01-20T11:13:50.959592Z",
     "iopub.status.busy": "2025-01-20T11:13:50.959226Z",
     "iopub.status.idle": "2025-01-20T11:13:50.964845Z",
     "shell.execute_reply": "2025-01-20T11:13:50.963831Z"
    },
    "papermill": {
     "duration": 0.014295,
     "end_time": "2025-01-20T11:13:50.966574",
     "exception": false,
     "start_time": "2025-01-20T11:13:50.952279",
     "status": "completed"
    },
    "tags": []
   },
   "outputs": [
    {
     "data": {
      "text/plain": [
       "30"
      ]
     },
     "execution_count": 13,
     "metadata": {},
     "output_type": "execute_result"
    }
   ],
   "source": [
    "get_actual_cost(432, 144, 400, 15) "
   ]
  },
  {
   "cell_type": "markdown",
   "id": "63cfc520",
   "metadata": {
    "papermill": {
     "duration": 0.006322,
     "end_time": "2025-01-20T11:13:50.979343",
     "exception": false,
     "start_time": "2025-01-20T11:13:50.973021",
     "status": "completed"
    },
    "tags": []
   },
   "source": [
    "Say you're working with a slightly larger room.  Run the next code cell to calculate the cost of the project."
   ]
  },
  {
   "cell_type": "code",
   "execution_count": 14,
   "id": "d7301790",
   "metadata": {
    "execution": {
     "iopub.execute_input": "2025-01-20T11:13:50.993562Z",
     "iopub.status.busy": "2025-01-20T11:13:50.993206Z",
     "iopub.status.idle": "2025-01-20T11:13:50.999181Z",
     "shell.execute_reply": "2025-01-20T11:13:50.998159Z"
    },
    "papermill": {
     "duration": 0.015022,
     "end_time": "2025-01-20T11:13:51.000863",
     "exception": false,
     "start_time": "2025-01-20T11:13:50.985841",
     "status": "completed"
    },
    "tags": []
   },
   "outputs": [
    {
     "data": {
      "text/plain": [
       "45"
      ]
     },
     "execution_count": 14,
     "metadata": {},
     "output_type": "execute_result"
    }
   ],
   "source": [
    "get_actual_cost(594, 288, 400, 15) "
   ]
  },
  {
   "cell_type": "markdown",
   "id": "7fff5c53",
   "metadata": {
    "papermill": {
     "duration": 0.00606,
     "end_time": "2025-01-20T11:13:51.013358",
     "exception": false,
     "start_time": "2025-01-20T11:13:51.007298",
     "status": "completed"
    },
    "tags": []
   },
   "source": [
    "# Keep going\n",
    "\n",
    "Continue to learn about **[data types](https://www.kaggle.com/alexisbcook/data-types)**."
   ]
  },
  {
   "cell_type": "markdown",
   "id": "fd12417d",
   "metadata": {
    "papermill": {
     "duration": 0.006029,
     "end_time": "2025-01-20T11:13:51.025912",
     "exception": false,
     "start_time": "2025-01-20T11:13:51.019883",
     "status": "completed"
    },
    "tags": []
   },
   "source": [
    "---\n",
    "\n",
    "\n",
    "\n",
    "\n",
    "*Have questions or comments? Visit the [course discussion forum](https://www.kaggle.com/learn/intro-to-programming/discussion) to chat with other learners.*"
   ]
  }
 ],
 "metadata": {
  "kaggle": {
   "accelerator": "none",
   "dataSources": [],
   "isGpuEnabled": false,
   "isInternetEnabled": false,
   "language": "python",
   "sourceType": "notebook"
  },
  "kernelspec": {
   "display_name": "Python 3",
   "language": "python",
   "name": "python3"
  },
  "language_info": {
   "codemirror_mode": {
    "name": "ipython",
    "version": 3
   },
   "file_extension": ".py",
   "mimetype": "text/x-python",
   "name": "python",
   "nbconvert_exporter": "python",
   "pygments_lexer": "ipython3",
   "version": "3.10.12"
  },
  "papermill": {
   "default_parameters": {},
   "duration": 4.822984,
   "end_time": "2025-01-20T11:13:51.652707",
   "environment_variables": {},
   "exception": null,
   "input_path": "__notebook__.ipynb",
   "output_path": "__notebook__.ipynb",
   "parameters": {},
   "start_time": "2025-01-20T11:13:46.829723",
   "version": "2.6.0"
  }
 },
 "nbformat": 4,
 "nbformat_minor": 5
}
