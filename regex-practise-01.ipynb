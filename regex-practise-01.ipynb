{
 "cells": [
  {
   "cell_type": "markdown",
   "id": "c69ad289",
   "metadata": {
    "papermill": {
     "duration": 0.003589,
     "end_time": "2025-01-19T22:56:42.177351",
     "exception": false,
     "start_time": "2025-01-19T22:56:42.173762",
     "status": "completed"
    },
    "tags": []
   },
   "source": [
    "^ : Matches the start of the string\n",
    "\n",
    "$ : Matches the end of the string\n",
    "    \n",
    ". : Matches any character except a newline\n",
    "\n",
    "? : Repeats a character zero or one time\n",
    "\n",
    "+ : Matches one or more repetitions of the preceding RE\n",
    "\n",
    "+? : Matches one or more repetitions of the preceding RE(non-greedy)\n",
    "\n",
    "•⁠  ⁠: Matches zero or more repetitions of the preceding RE\n",
    "\n",
    "*? : Matches zero or more repetitions of the preceding RE(non-greedy)\n",
    "\n",
    "\\ : Signals a special sequence\n",
    "\n",
    "| : Used for alternation\n",
    "\n",
    "[] : Used to indicate a set of characters\n",
    "\n",
    "() : Matches whatever regular expression is inside the parentheses, and indicates the start and end of a group\n",
    "\n",
    "{m} : Specifies that exactly m copies of the previous RE should be matched\n",
    "\n",
    "{m,n} : Matches from m to n repetitions of the preceding RE, attempting to match as many repetitions as possible\n",
    "\n",
    "\n",
    "====================================================================================================================\n",
    "\n",
    "[aeiou] : Matches a single character in the listed set\n",
    "\n",
    "[^xyz] : Matches a single character not in the listed set\n",
    "\n",
    "[a-z0-9] : Matches a single character between a to z or 0 to 9.\n",
    "    \n",
    "\n",
    "\n",
    "====================================================================================================================\n",
    "\n",
    "\\s : Matches any whitespace character (i.e. equivalent to the class [ \\t\\n\\r\\f\\v])\n",
    "\n",
    "\\S : Matches any non-whitespace character (i.e. equivalent to the class [^ \\t\\n\\r\\f\\v])\n",
    "\n",
    "\\d : Matches any decimal digit (i.e. equivalent to the class [0-9])\n",
    "\n",
    "\\D : Matches any non-digit character (i.e. equivalent to the class      [^0-9])\n",
    "\n",
    "\\w : Matches any alphanumeric character (i.e. equivalent to the class [a-zA-Z0-9_])\n",
    "\n",
    "\\W : Matches any non-alphanumeric character (i.e. equivalent to the class [^a-zA-Z0-9_])\n",
    "\n",
    "\n",
    "\n",
    "\n",
    "====================================================================================================================\n",
    "\n",
    "\n",
    ".: Matches any character (except a new line).\n",
    "                          \n",
    "*: Matches zero or more repetitions of the preceding character or group.\n",
    "\n",
    "+: Matches one or more repetitions of the preceding character or group.\n",
    "\n",
    "?: Matches zero or one repetition of the preceding character or group.\n",
    "\n",
    "^: Matches the beginning of the string.\n",
    "\n",
    "$: Matches the end of the string.\n",
    "\n",
    "\n",
    "\n",
    "===================================================================================================================="
   ]
  },
  {
   "cell_type": "code",
   "execution_count": 1,
   "id": "5737e48b",
   "metadata": {
    "execution": {
     "iopub.execute_input": "2025-01-19T22:56:42.185233Z",
     "iopub.status.busy": "2025-01-19T22:56:42.184776Z",
     "iopub.status.idle": "2025-01-19T22:56:42.196820Z",
     "shell.execute_reply": "2025-01-19T22:56:42.195512Z"
    },
    "papermill": {
     "duration": 0.017788,
     "end_time": "2025-01-19T22:56:42.198486",
     "exception": false,
     "start_time": "2025-01-19T22:56:42.180698",
     "status": "completed"
    },
    "tags": []
   },
   "outputs": [
    {
     "name": "stdout",
     "output_type": "stream",
     "text": [
      "/kaggle/input/regex-python-self-practise-data-set/regex_dataset.csv\n"
     ]
    }
   ],
   "source": [
    "import os\n",
    "\n",
    "# List all files and folders in /kaggle/input\n",
    "for dirname, _, filenames in os.walk('/kaggle/input'):\n",
    "    for filename in filenames:\n",
    "        print(os.path.join(dirname, filename))"
   ]
  },
  {
   "cell_type": "code",
   "execution_count": 2,
   "id": "0ecb4927",
   "metadata": {
    "execution": {
     "iopub.execute_input": "2025-01-19T22:56:42.205711Z",
     "iopub.status.busy": "2025-01-19T22:56:42.205285Z",
     "iopub.status.idle": "2025-01-19T22:56:43.178978Z",
     "shell.execute_reply": "2025-01-19T22:56:43.177538Z"
    },
    "papermill": {
     "duration": 0.97933,
     "end_time": "2025-01-19T22:56:43.180911",
     "exception": false,
     "start_time": "2025-01-19T22:56:42.201581",
     "status": "completed"
    },
    "tags": []
   },
   "outputs": [
    {
     "name": "stdout",
     "output_type": "stream",
     "text": [
      "Dataset loaded successfully.\n",
      "                 Emails     Phone_Numbers   IP_Addresses       Dates  \\\n",
      "0  john.doe@example.com   +1-555-123-4567    192.168.1.1  2024-01-01   \n",
      "1   jane_smith@work.org  +44 20 7946 0958       10.0.0.1  2023-12-31   \n",
      "2  emily.davis@home.net    +91-9876543210     172.16.0.1  2023-11-25   \n",
      "3        mike.b@edu.com   +1-408-555-7890      127.0.0.1  2023-10-15   \n",
      "4      chrisw@gmail.com   +61 8 1234 5678  255.255.255.0  2023-09-30   \n",
      "\n",
      "                    URLs   Prices          Hashtags      Tags Serial_Numbers  \\\n",
      "0    https://example.com  $999.99             #data      <h1>      SN123-456   \n",
      "1        http://test.org  $699.49           #python     <div>      SN789-012   \n",
      "2  https://mywebsite.net  $499.00            #regex       <a>      SN345-678   \n",
      "3        http://shop.biz  $249.99           #coding    <span>      SN901-234   \n",
      "4     https://company.co   $79.99  #machinelearning  <script>      SN567-890   \n",
      "\n",
      "  Transaction_IDs        Names    Products    Statuses  \n",
      "0         TX12345     John Doe      Laptop   Delivered  \n",
      "1         TX67890   Jane Smith  Smartphone     Shipped  \n",
      "2         TX11121  Emily Davis      Tablet  Processing  \n",
      "3         TX13141   Mike Brown     Monitor   Cancelled  \n",
      "4         TX15161  Chris White    Keyboard     Pending  \n"
     ]
    }
   ],
   "source": [
    "import pandas as pd\n",
    "import numpy as np\n",
    "\n",
    "\n",
    "# Correct file path based on the output\n",
    "file_path = \"/kaggle/input/regex-python-self-practise-data-set/regex_dataset.csv\"\n",
    "\n",
    "# Load the CSV file\n",
    "try:\n",
    "    df = pd.read_csv(file_path)\n",
    "    print(\"Dataset loaded successfully.\")\n",
    "    print(df.head())\n",
    "except FileNotFoundError:\n",
    "    print(f\"File not found: {file_path}. Please check the file path.\")"
   ]
  },
  {
   "cell_type": "code",
   "execution_count": null,
   "id": "b58d6565",
   "metadata": {
    "papermill": {
     "duration": 0.00266,
     "end_time": "2025-01-19T22:56:43.186640",
     "exception": false,
     "start_time": "2025-01-19T22:56:43.183980",
     "status": "completed"
    },
    "tags": []
   },
   "outputs": [],
   "source": []
  },
  {
   "cell_type": "code",
   "execution_count": null,
   "id": "1cfe0268",
   "metadata": {
    "papermill": {
     "duration": 0.002356,
     "end_time": "2025-01-19T22:56:43.191769",
     "exception": false,
     "start_time": "2025-01-19T22:56:43.189413",
     "status": "completed"
    },
    "tags": []
   },
   "outputs": [],
   "source": []
  },
  {
   "cell_type": "code",
   "execution_count": null,
   "id": "d2b4fb5b",
   "metadata": {
    "papermill": {
     "duration": 0.00238,
     "end_time": "2025-01-19T22:56:43.196862",
     "exception": false,
     "start_time": "2025-01-19T22:56:43.194482",
     "status": "completed"
    },
    "tags": []
   },
   "outputs": [],
   "source": []
  },
  {
   "cell_type": "code",
   "execution_count": null,
   "id": "97c13466",
   "metadata": {
    "papermill": {
     "duration": 0.002539,
     "end_time": "2025-01-19T22:56:43.202064",
     "exception": false,
     "start_time": "2025-01-19T22:56:43.199525",
     "status": "completed"
    },
    "tags": []
   },
   "outputs": [],
   "source": []
  },
  {
   "cell_type": "code",
   "execution_count": null,
   "id": "eed087bc",
   "metadata": {
    "papermill": {
     "duration": 0.002408,
     "end_time": "2025-01-19T22:56:43.207088",
     "exception": false,
     "start_time": "2025-01-19T22:56:43.204680",
     "status": "completed"
    },
    "tags": []
   },
   "outputs": [],
   "source": []
  },
  {
   "cell_type": "code",
   "execution_count": null,
   "id": "cb3854b3",
   "metadata": {
    "papermill": {
     "duration": 0.002372,
     "end_time": "2025-01-19T22:56:43.212176",
     "exception": false,
     "start_time": "2025-01-19T22:56:43.209804",
     "status": "completed"
    },
    "tags": []
   },
   "outputs": [],
   "source": []
  },
  {
   "cell_type": "code",
   "execution_count": null,
   "id": "b9202f8e",
   "metadata": {
    "papermill": {
     "duration": 0.002691,
     "end_time": "2025-01-19T22:56:43.217475",
     "exception": false,
     "start_time": "2025-01-19T22:56:43.214784",
     "status": "completed"
    },
    "tags": []
   },
   "outputs": [],
   "source": []
  },
  {
   "cell_type": "code",
   "execution_count": null,
   "id": "4fe3e34c",
   "metadata": {
    "papermill": {
     "duration": 0.00242,
     "end_time": "2025-01-19T22:56:43.222588",
     "exception": false,
     "start_time": "2025-01-19T22:56:43.220168",
     "status": "completed"
    },
    "tags": []
   },
   "outputs": [],
   "source": []
  }
 ],
 "metadata": {
  "kaggle": {
   "accelerator": "none",
   "dataSources": [
    {
     "datasetId": 6511174,
     "sourceId": 10519616,
     "sourceType": "datasetVersion"
    }
   ],
   "dockerImageVersionId": 30839,
   "isGpuEnabled": false,
   "isInternetEnabled": true,
   "language": "python",
   "sourceType": "notebook"
  },
  "kernelspec": {
   "display_name": "Python 3 (ipykernel)",
   "language": "python",
   "name": "python3"
  },
  "language_info": {
   "codemirror_mode": {
    "name": "ipython",
    "version": 3
   },
   "file_extension": ".py",
   "mimetype": "text/x-python",
   "name": "python",
   "nbconvert_exporter": "python",
   "pygments_lexer": "ipython3",
   "version": "3.10.12"
  },
  "papermill": {
   "default_parameters": {},
   "duration": 4.475951,
   "end_time": "2025-01-19T22:56:43.846663",
   "environment_variables": {},
   "exception": null,
   "input_path": "__notebook__.ipynb",
   "output_path": "__notebook__.ipynb",
   "parameters": {},
   "start_time": "2025-01-19T22:56:39.370712",
   "version": "2.6.0"
  }
 },
 "nbformat": 4,
 "nbformat_minor": 5
}
