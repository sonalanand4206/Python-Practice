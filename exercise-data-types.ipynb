{
 "cells": [
  {
   "cell_type": "markdown",
   "id": "4729f4e7",
   "metadata": {
    "papermill": {
     "duration": 0.00735,
     "end_time": "2025-01-20T11:55:22.281812",
     "exception": false,
     "start_time": "2025-01-20T11:55:22.274462",
     "status": "completed"
    },
    "tags": []
   },
   "source": [
    "**This notebook is an exercise in the [Intro to Programming](https://www.kaggle.com/learn/intro-to-programming) course.  You can reference the tutorial at [this link](https://www.kaggle.com/alexisbcook/data-types).**\n",
    "\n",
    "---\n"
   ]
  },
  {
   "cell_type": "markdown",
   "id": "9a02cafe",
   "metadata": {
    "papermill": {
     "duration": 0.005196,
     "end_time": "2025-01-20T11:55:22.292604",
     "exception": false,
     "start_time": "2025-01-20T11:55:22.287408",
     "status": "completed"
    },
    "tags": []
   },
   "source": [
    "In the tutorial, you learned about four different data types: floats, integers, strings, and booleans.  In this exercise, you'll experiment with them.\n",
    "\n",
    "# Set up the notebook\n",
    "\n",
    "Run the next code cell without changes to set up the notebook."
   ]
  },
  {
   "cell_type": "code",
   "execution_count": 1,
   "id": "9533954c",
   "metadata": {
    "execution": {
     "iopub.execute_input": "2025-01-20T11:55:22.304809Z",
     "iopub.status.busy": "2025-01-20T11:55:22.304320Z",
     "iopub.status.idle": "2025-01-20T11:55:23.415427Z",
     "shell.execute_reply": "2025-01-20T11:55:23.413939Z"
    },
    "papermill": {
     "duration": 1.119515,
     "end_time": "2025-01-20T11:55:23.417367",
     "exception": false,
     "start_time": "2025-01-20T11:55:22.297852",
     "status": "completed"
    },
    "tags": []
   },
   "outputs": [
    {
     "name": "stdout",
     "output_type": "stream",
     "text": [
      "Setup complete.\n"
     ]
    }
   ],
   "source": [
    "# Set up the exercise\n",
    "from learntools.core import binder\n",
    "binder.bind(globals())\n",
    "from learntools.intro_to_programming.ex3 import *\n",
    "print('Setup complete.')"
   ]
  },
  {
   "cell_type": "markdown",
   "id": "a8f20393",
   "metadata": {
    "papermill": {
     "duration": 0.005081,
     "end_time": "2025-01-20T11:55:23.428146",
     "exception": false,
     "start_time": "2025-01-20T11:55:23.423065",
     "status": "completed"
    },
    "tags": []
   },
   "source": [
    "# Question 1\n",
    "\n",
    "You have seen how to convert a float to an integer with the `int` function.  Try this out yourself by running the code cell below."
   ]
  },
  {
   "cell_type": "code",
   "execution_count": 2,
   "id": "6a4b8138",
   "metadata": {
    "execution": {
     "iopub.execute_input": "2025-01-20T11:55:23.441534Z",
     "iopub.status.busy": "2025-01-20T11:55:23.440971Z",
     "iopub.status.idle": "2025-01-20T11:55:23.447541Z",
     "shell.execute_reply": "2025-01-20T11:55:23.446384Z"
    },
    "papermill": {
     "duration": 0.014827,
     "end_time": "2025-01-20T11:55:23.449315",
     "exception": false,
     "start_time": "2025-01-20T11:55:23.434488",
     "status": "completed"
    },
    "tags": []
   },
   "outputs": [
    {
     "name": "stdout",
     "output_type": "stream",
     "text": [
      "1.0\n",
      "<class 'float'>\n",
      "1\n",
      "<class 'int'>\n"
     ]
    }
   ],
   "source": [
    "# Define a float\n",
    "y = 1.\n",
    "print(y)\n",
    "print(type(y))\n",
    "\n",
    "# Convert float to integer with the int function\n",
    "z = int(y)\n",
    "print(z)\n",
    "print(type(z))"
   ]
  },
  {
   "cell_type": "markdown",
   "id": "d30ac291",
   "metadata": {
    "papermill": {
     "duration": 0.005203,
     "end_time": "2025-01-20T11:55:23.460083",
     "exception": false,
     "start_time": "2025-01-20T11:55:23.454880",
     "status": "completed"
    },
    "tags": []
   },
   "source": [
    "In this case, the float you are using has no numbers after the decimal.  \n",
    "- But what happens when you try to convert a float with a fractional part to an integer?  \n",
    "- How does the outcome of the `int` function change for positive and negative numbers?\n",
    "\n",
    "Use the next code cell to investigate and answer these questions.  Feel free to add or remove any lines of code -- it is your workspace!"
   ]
  },
  {
   "cell_type": "code",
   "execution_count": 3,
   "id": "635d6966",
   "metadata": {
    "execution": {
     "iopub.execute_input": "2025-01-20T11:55:23.472538Z",
     "iopub.status.busy": "2025-01-20T11:55:23.472105Z",
     "iopub.status.idle": "2025-01-20T11:55:23.479036Z",
     "shell.execute_reply": "2025-01-20T11:55:23.477665Z"
    },
    "papermill": {
     "duration": 0.015221,
     "end_time": "2025-01-20T11:55:23.480858",
     "exception": false,
     "start_time": "2025-01-20T11:55:23.465637",
     "status": "completed"
    },
    "tags": []
   },
   "outputs": [
    {
     "name": "stdout",
     "output_type": "stream",
     "text": [
      "1\n",
      "1\n",
      "-3\n",
      "-2\n"
     ]
    }
   ],
   "source": [
    "# Uncomment and run this code to get started!\n",
    "print(int(1.2321))\n",
    "print(int(1.747))\n",
    "print(int(-3.94535))\n",
    "print(int(-2.19774))"
   ]
  },
  {
   "cell_type": "markdown",
   "id": "778f34ad",
   "metadata": {
    "papermill": {
     "duration": 0.005475,
     "end_time": "2025-01-20T11:55:23.492083",
     "exception": false,
     "start_time": "2025-01-20T11:55:23.486608",
     "status": "completed"
    },
    "tags": []
   },
   "source": [
    "Once you have an answer, run the code cell below to see the solution.  Viewing the solution will give you credit for answering the problem."
   ]
  },
  {
   "cell_type": "code",
   "execution_count": 4,
   "id": "bb52ab09",
   "metadata": {
    "execution": {
     "iopub.execute_input": "2025-01-20T11:55:23.504775Z",
     "iopub.status.busy": "2025-01-20T11:55:23.504375Z",
     "iopub.status.idle": "2025-01-20T11:55:23.514020Z",
     "shell.execute_reply": "2025-01-20T11:55:23.512843Z"
    },
    "papermill": {
     "duration": 0.018362,
     "end_time": "2025-01-20T11:55:23.516025",
     "exception": false,
     "start_time": "2025-01-20T11:55:23.497663",
     "status": "completed"
    },
    "tags": []
   },
   "outputs": [
    {
     "data": {
      "application/javascript": [
       "parent.postMessage({\"jupyterEvent\": \"custom.exercise_interaction\", \"data\": {\"outcomeType\": 1, \"valueTowardsCompletion\": 0.2, \"interactionType\": 1, \"questionType\": 4, \"questionId\": \"1_FloatToInt\", \"learnToolsVersion\": \"0.3.4\", \"failureMessage\": \"\", \"exceptionClass\": \"\", \"trace\": \"\"}}, \"*\")"
      ],
      "text/plain": [
       "<IPython.core.display.Javascript object>"
      ]
     },
     "metadata": {},
     "output_type": "display_data"
    },
    {
     "data": {
      "text/markdown": [
       "<span style=\"color:#33cc33\">Correct:</span> \n",
       "\n",
       "Negative floats are always rounded UP to the closest integer (for instance, both -1.1 and -1.9 are rounded up to -1). Positive floats are always rounded DOWN to the closest integer (for instance, 2.1 and 2.9 are rounded down to 2)."
      ],
      "text/plain": [
       "Correct: \n",
       "\n",
       "Negative floats are always rounded UP to the closest integer (for instance, both -1.1 and -1.9 are rounded up to -1). Positive floats are always rounded DOWN to the closest integer (for instance, 2.1 and 2.9 are rounded down to 2)."
      ]
     },
     "metadata": {},
     "output_type": "display_data"
    }
   ],
   "source": [
    "# Check your answer (Run this code cell to receive credit!)\n",
    "q1.check()"
   ]
  },
  {
   "cell_type": "markdown",
   "id": "c0a43d1b",
   "metadata": {
    "papermill": {
     "duration": 0.00562,
     "end_time": "2025-01-20T11:55:23.527711",
     "exception": false,
     "start_time": "2025-01-20T11:55:23.522091",
     "status": "completed"
    },
    "tags": []
   },
   "source": [
    "# Question 2\n",
    "\n",
    "In the tutorial, you learned about booleans (which can take a value of `True` or `False`), in addition to integers, floats, and strings.  For this question, your goal is to determine what happens when you multiply a boolean by any of these data types.  Specifically, \n",
    "- What happens when you multiply an integer or float by `True`?  What happens when you multiply them by `False`?  How does the answer change if the numbers are positive or negative?\n",
    "- What happens when you multiply a string by `True`?  By `False`?\n",
    "\n",
    "Use the next code cell for your investigation. "
   ]
  },
  {
   "cell_type": "code",
   "execution_count": 5,
   "id": "15ce218b",
   "metadata": {
    "execution": {
     "iopub.execute_input": "2025-01-20T11:55:23.540679Z",
     "iopub.status.busy": "2025-01-20T11:55:23.540317Z",
     "iopub.status.idle": "2025-01-20T11:55:23.545540Z",
     "shell.execute_reply": "2025-01-20T11:55:23.544394Z"
    },
    "papermill": {
     "duration": 0.013755,
     "end_time": "2025-01-20T11:55:23.547333",
     "exception": false,
     "start_time": "2025-01-20T11:55:23.533578",
     "status": "completed"
    },
    "tags": []
   },
   "outputs": [
    {
     "name": "stdout",
     "output_type": "stream",
     "text": [
      "3\n",
      "-3.1\n",
      "<class 'str'>\n",
      "0\n"
     ]
    }
   ],
   "source": [
    "# Uncomment and run this code to get started!\n",
    "print(3 * True)\n",
    "print(-3.1 * True)\n",
    "print(type(\"abc\" * False))\n",
    "print(len(\"abc\" * False))"
   ]
  },
  {
   "cell_type": "markdown",
   "id": "019004a7",
   "metadata": {
    "papermill": {
     "duration": 0.005851,
     "end_time": "2025-01-20T11:55:23.559506",
     "exception": false,
     "start_time": "2025-01-20T11:55:23.553655",
     "status": "completed"
    },
    "tags": []
   },
   "source": [
    "Once you have an answer, run the code cell below to see the solution.  Viewing the solution will give you credit for answering the problem."
   ]
  },
  {
   "cell_type": "code",
   "execution_count": 6,
   "id": "1381b9a3",
   "metadata": {
    "execution": {
     "iopub.execute_input": "2025-01-20T11:55:23.572798Z",
     "iopub.status.busy": "2025-01-20T11:55:23.572298Z",
     "iopub.status.idle": "2025-01-20T11:55:23.581779Z",
     "shell.execute_reply": "2025-01-20T11:55:23.580590Z"
    },
    "papermill": {
     "duration": 0.018301,
     "end_time": "2025-01-20T11:55:23.583705",
     "exception": false,
     "start_time": "2025-01-20T11:55:23.565404",
     "status": "completed"
    },
    "tags": []
   },
   "outputs": [
    {
     "data": {
      "application/javascript": [
       "parent.postMessage({\"jupyterEvent\": \"custom.exercise_interaction\", \"data\": {\"outcomeType\": 1, \"valueTowardsCompletion\": 0.2, \"interactionType\": 1, \"questionType\": 4, \"questionId\": \"2_MultiplyBooleans\", \"learnToolsVersion\": \"0.3.4\", \"failureMessage\": \"\", \"exceptionClass\": \"\", \"trace\": \"\"}}, \"*\")"
      ],
      "text/plain": [
       "<IPython.core.display.Javascript object>"
      ]
     },
     "metadata": {},
     "output_type": "display_data"
    },
    {
     "data": {
      "text/markdown": [
       "<span style=\"color:#33cc33\">Correct:</span> \n",
       "\n",
       "When you multiple an integer or float by a boolean with value `True`, it just returns that same integer or float (and is equivalent to multiplying by 1).  If you multiply an integer or float by a boolean with value `False`, it always returns 0.  This is true for both positive and negative numbers.  If you multiply a string by a boolean with value `True`, it just returns that same string.  And if you multiply a string by a boolean with value `False`, it returns an empty string (or a string with length zero)."
      ],
      "text/plain": [
       "Correct: \n",
       "\n",
       "When you multiple an integer or float by a boolean with value `True`, it just returns that same integer or float (and is equivalent to multiplying by 1).  If you multiply an integer or float by a boolean with value `False`, it always returns 0.  This is true for both positive and negative numbers.  If you multiply a string by a boolean with value `True`, it just returns that same string.  And if you multiply a string by a boolean with value `False`, it returns an empty string (or a string with length zero)."
      ]
     },
     "metadata": {},
     "output_type": "display_data"
    }
   ],
   "source": [
    "# Check your answer (Run this code cell to receive credit!)\n",
    "q2.check()"
   ]
  },
  {
   "cell_type": "markdown",
   "id": "41950812",
   "metadata": {
    "papermill": {
     "duration": 0.00586,
     "end_time": "2025-01-20T11:55:23.595979",
     "exception": false,
     "start_time": "2025-01-20T11:55:23.590119",
     "status": "completed"
    },
    "tags": []
   },
   "source": [
    "# Question 3\n",
    "\n",
    "In this question, you will build off your work from the previous exercise to write a function that estimates the value of a house.\n",
    "\n",
    "Use the next code cell to create a function `get_expected_cost` that takes as input three variables:\n",
    "- `beds` - number of bedrooms (data type float)\n",
    "- `baths` - number of bathrooms (data type float)\n",
    "- `has_basement` - whether or not the house has a basement (data type boolean)\n",
    "\n",
    "It should return the expected cost of a house with those characteristics. Assume that:\n",
    "- the expected cost for a house with 0 bedrooms and 0 bathrooms, and no basement is 80000, \n",
    "- each bedroom adds 30000 to the expected cost,\n",
    "- each bathroom adds 10000 to the expected cost, and\n",
    "- a basement adds 40000 to the expected cost.\n",
    "\n",
    "For instance,\n",
    "- a house with 1 bedroom, 1 bathroom, and no basement has an expected cost of 80000 + 30000 + 10000 = 120000.  This value will be calculated with `get_expected_cost(1, 1, False)`.\n",
    "- a house with 2 bedrooms, 1 bathroom, and a basement has an expected cost of 80000 + 2*30000 + 10000 + 40000 = 190000.  This value will be calculated with `get_expected_cost(2, 1, True)`.\n",
    "\n",
    "Remember you can always get a hint by uncommenting `q3.hint()` in the code cell following the next!"
   ]
  },
  {
   "cell_type": "code",
   "execution_count": 7,
   "id": "a4db0da0",
   "metadata": {
    "execution": {
     "iopub.execute_input": "2025-01-20T11:55:23.609670Z",
     "iopub.status.busy": "2025-01-20T11:55:23.609324Z",
     "iopub.status.idle": "2025-01-20T11:55:23.618013Z",
     "shell.execute_reply": "2025-01-20T11:55:23.616969Z"
    },
    "papermill": {
     "duration": 0.01776,
     "end_time": "2025-01-20T11:55:23.619862",
     "exception": false,
     "start_time": "2025-01-20T11:55:23.602102",
     "status": "completed"
    },
    "tags": []
   },
   "outputs": [
    {
     "data": {
      "application/javascript": [
       "parent.postMessage({\"jupyterEvent\": \"custom.exercise_interaction\", \"data\": {\"outcomeType\": 1, \"valueTowardsCompletion\": 0.2, \"interactionType\": 1, \"questionType\": 2, \"questionId\": \"3_EstimateHouseValueBool\", \"learnToolsVersion\": \"0.3.4\", \"failureMessage\": \"\", \"exceptionClass\": \"\", \"trace\": \"\"}}, \"*\")"
      ],
      "text/plain": [
       "<IPython.core.display.Javascript object>"
      ]
     },
     "metadata": {},
     "output_type": "display_data"
    },
    {
     "data": {
      "text/markdown": [
       "<span style=\"color:#33cc33\">Correct</span>"
      ],
      "text/plain": [
       "Correct"
      ]
     },
     "metadata": {},
     "output_type": "display_data"
    }
   ],
   "source": [
    "# TODO: Complete the function\n",
    "def get_expected_cost(beds, baths, has_basement):\n",
    "    value = 80000\n",
    "    value = value + (beds * 30000)\n",
    "    value = value + (baths * 10000)\n",
    "    if has_basement == True:\n",
    "        value = value + 40000\n",
    "    return value\n",
    "\n",
    "# Check your answer \n",
    "q3.check()"
   ]
  },
  {
   "cell_type": "code",
   "execution_count": 8,
   "id": "b5c66445",
   "metadata": {
    "execution": {
     "iopub.execute_input": "2025-01-20T11:55:23.634271Z",
     "iopub.status.busy": "2025-01-20T11:55:23.633883Z",
     "iopub.status.idle": "2025-01-20T11:55:23.637958Z",
     "shell.execute_reply": "2025-01-20T11:55:23.636967Z"
    },
    "papermill": {
     "duration": 0.013163,
     "end_time": "2025-01-20T11:55:23.639780",
     "exception": false,
     "start_time": "2025-01-20T11:55:23.626617",
     "status": "completed"
    },
    "tags": []
   },
   "outputs": [],
   "source": [
    "# Uncomment to see a hint\n",
    "#q3.hint()\n",
    "\n",
    "# Uncomment to view the solution\n",
    "#q3.solution()"
   ]
  },
  {
   "cell_type": "markdown",
   "id": "add0d12d",
   "metadata": {
    "papermill": {
     "duration": 0.005913,
     "end_time": "2025-01-20T11:55:23.652250",
     "exception": false,
     "start_time": "2025-01-20T11:55:23.646337",
     "status": "completed"
    },
    "tags": []
   },
   "source": [
    "# Question 4\n",
    "\n",
    "We'll continue our study of boolean arithmetic.  For this question, your task is to provide a description of what happpens when you add booleans. \n",
    "\n",
    "Use the next code cell for your investigation.  Feel free to add or remove any lines of code - use it as your workspace!"
   ]
  },
  {
   "cell_type": "code",
   "execution_count": 9,
   "id": "7d6fbc84",
   "metadata": {
    "execution": {
     "iopub.execute_input": "2025-01-20T11:55:23.666109Z",
     "iopub.status.busy": "2025-01-20T11:55:23.665726Z",
     "iopub.status.idle": "2025-01-20T11:55:23.673070Z",
     "shell.execute_reply": "2025-01-20T11:55:23.671540Z"
    },
    "papermill": {
     "duration": 0.016782,
     "end_time": "2025-01-20T11:55:23.675306",
     "exception": false,
     "start_time": "2025-01-20T11:55:23.658524",
     "status": "completed"
    },
    "tags": []
   },
   "outputs": [
    {
     "name": "stdout",
     "output_type": "stream",
     "text": [
      "0\n",
      "1\n",
      "1\n",
      "2\n",
      "3\n"
     ]
    }
   ],
   "source": [
    "print(False + False)\n",
    "print(True + False)\n",
    "print(False + True)\n",
    "print(True + True)\n",
    "print(False + True + True + True)"
   ]
  },
  {
   "cell_type": "markdown",
   "id": "1a32bba4",
   "metadata": {
    "papermill": {
     "duration": 0.007074,
     "end_time": "2025-01-20T11:55:23.688822",
     "exception": false,
     "start_time": "2025-01-20T11:55:23.681748",
     "status": "completed"
    },
    "tags": []
   },
   "source": [
    "Once you have an answer, run the code cell below to see the solution.  Viewing the solution will give you credit for answering the problem."
   ]
  },
  {
   "cell_type": "code",
   "execution_count": 10,
   "id": "cbb9ba3f",
   "metadata": {
    "execution": {
     "iopub.execute_input": "2025-01-20T11:55:23.703303Z",
     "iopub.status.busy": "2025-01-20T11:55:23.702903Z",
     "iopub.status.idle": "2025-01-20T11:55:23.710464Z",
     "shell.execute_reply": "2025-01-20T11:55:23.709406Z"
    },
    "papermill": {
     "duration": 0.016652,
     "end_time": "2025-01-20T11:55:23.712312",
     "exception": false,
     "start_time": "2025-01-20T11:55:23.695660",
     "status": "completed"
    },
    "tags": []
   },
   "outputs": [
    {
     "data": {
      "application/javascript": [
       "parent.postMessage({\"jupyterEvent\": \"custom.exercise_interaction\", \"data\": {\"outcomeType\": 1, \"valueTowardsCompletion\": 0.2, \"interactionType\": 1, \"questionType\": 4, \"questionId\": \"4_AddingBooleans\", \"learnToolsVersion\": \"0.3.4\", \"failureMessage\": \"\", \"exceptionClass\": \"\", \"trace\": \"\"}}, \"*\")"
      ],
      "text/plain": [
       "<IPython.core.display.Javascript object>"
      ]
     },
     "metadata": {},
     "output_type": "display_data"
    },
    {
     "data": {
      "text/markdown": [
       "<span style=\"color:#33cc33\">Correct:</span> \n",
       "\n",
       "When you add booleans, adding `False` is equivalent to adding 0, and adding `True` is equivalent to adding 1."
      ],
      "text/plain": [
       "Correct: \n",
       "\n",
       "When you add booleans, adding `False` is equivalent to adding 0, and adding `True` is equivalent to adding 1."
      ]
     },
     "metadata": {},
     "output_type": "display_data"
    }
   ],
   "source": [
    "# Check your answer (Run this code cell to receive credit!)\n",
    "q4.check()"
   ]
  },
  {
   "cell_type": "markdown",
   "id": "81ee455a",
   "metadata": {
    "papermill": {
     "duration": 0.006443,
     "end_time": "2025-01-20T11:55:23.725402",
     "exception": false,
     "start_time": "2025-01-20T11:55:23.718959",
     "status": "completed"
    },
    "tags": []
   },
   "source": [
    "# 🌶️ Question 5\n",
    "\n",
    "You own an online shop where you sell rings with custom engravings.  You offer both gold plated and solid gold rings.\n",
    "- Gold plated rings have a base cost of \\\\$50, and you charge \\\\$7 per engraved unit.  \n",
    "- Solid gold rings have a base cost of \\\\$100, and you charge \\\\$10 per engraved unit.\n",
    "- Spaces and punctuation are counted as engraved units.\n",
    "\n",
    "Write a function `cost_of_project()` that takes two arguments:\n",
    "- `engraving` - a Python string with the text of the engraving\n",
    "- `solid_gold` - a Boolean that indicates whether the ring is solid gold\n",
    "\n",
    "It should return the cost of the project.  This question should be fairly challenging, and you may need a hint."
   ]
  },
  {
   "cell_type": "code",
   "execution_count": 11,
   "id": "940c4229",
   "metadata": {
    "execution": {
     "iopub.execute_input": "2025-01-20T11:55:23.739836Z",
     "iopub.status.busy": "2025-01-20T11:55:23.739477Z",
     "iopub.status.idle": "2025-01-20T11:55:23.748080Z",
     "shell.execute_reply": "2025-01-20T11:55:23.747043Z"
    },
    "papermill": {
     "duration": 0.017835,
     "end_time": "2025-01-20T11:55:23.749694",
     "exception": false,
     "start_time": "2025-01-20T11:55:23.731859",
     "status": "completed"
    },
    "tags": []
   },
   "outputs": [
    {
     "data": {
      "application/javascript": [
       "parent.postMessage({\"jupyterEvent\": \"custom.exercise_interaction\", \"data\": {\"outcomeType\": 1, \"valueTowardsCompletion\": 0.2, \"interactionType\": 1, \"questionType\": 2, \"questionId\": \"5_CustomEngravings\", \"learnToolsVersion\": \"0.3.4\", \"failureMessage\": \"\", \"exceptionClass\": \"\", \"trace\": \"\"}}, \"*\")"
      ],
      "text/plain": [
       "<IPython.core.display.Javascript object>"
      ]
     },
     "metadata": {},
     "output_type": "display_data"
    },
    {
     "data": {
      "text/markdown": [
       "<span style=\"color:#33cc33\">Correct</span>"
      ],
      "text/plain": [
       "Correct"
      ]
     },
     "metadata": {},
     "output_type": "display_data"
    }
   ],
   "source": [
    "def cost_of_project(engraving, solid_gold):\n",
    "    cost = solid_gold * (100 + 10 * len(engraving)) + (not solid_gold) * (50 + 7 * len(engraving))\n",
    "    return cost\n",
    "\n",
    "# Check your answer\n",
    "q5.check()"
   ]
  },
  {
   "cell_type": "code",
   "execution_count": 12,
   "id": "500eb5a7",
   "metadata": {
    "execution": {
     "iopub.execute_input": "2025-01-20T11:55:23.764452Z",
     "iopub.status.busy": "2025-01-20T11:55:23.764021Z",
     "iopub.status.idle": "2025-01-20T11:55:23.771612Z",
     "shell.execute_reply": "2025-01-20T11:55:23.770559Z"
    },
    "papermill": {
     "duration": 0.016862,
     "end_time": "2025-01-20T11:55:23.773393",
     "exception": false,
     "start_time": "2025-01-20T11:55:23.756531",
     "status": "completed"
    },
    "tags": []
   },
   "outputs": [
    {
     "data": {
      "application/javascript": [
       "parent.postMessage({\"jupyterEvent\": \"custom.exercise_interaction\", \"data\": {\"interactionType\": 3, \"questionType\": 2, \"questionId\": \"5_CustomEngravings\", \"learnToolsVersion\": \"0.3.4\", \"valueTowardsCompletion\": 0.0, \"failureMessage\": \"\", \"exceptionClass\": \"\", \"trace\": \"\", \"outcomeType\": 4}}, \"*\")"
      ],
      "text/plain": [
       "<IPython.core.display.Javascript object>"
      ]
     },
     "metadata": {},
     "output_type": "display_data"
    },
    {
     "data": {
      "text/markdown": [
       "<span style=\"color:#33cc99\">Solution:</span> \n",
       "```python\n",
       "def cost_of_project(engraving, solid_gold):\n",
       "    cost = solid_gold * (100 + 10 * len(engraving)) + (not solid_gold) * (50 + 7 * len(engraving))\n",
       "    return cost\n",
       "\n",
       "```"
      ],
      "text/plain": [
       "Solution: \n",
       "```python\n",
       "def cost_of_project(engraving, solid_gold):\n",
       "    cost = solid_gold * (100 + 10 * len(engraving)) + (not solid_gold) * (50 + 7 * len(engraving))\n",
       "    return cost\n",
       "\n",
       "```"
      ]
     },
     "metadata": {},
     "output_type": "display_data"
    }
   ],
   "source": [
    "# Uncomment to see a hint\n",
    "#q5.hint()\n",
    "\n",
    "# Uncomment to view the solution\n",
    "q5.solution()"
   ]
  },
  {
   "cell_type": "markdown",
   "id": "349e7fe7",
   "metadata": {
    "papermill": {
     "duration": 0.006695,
     "end_time": "2025-01-20T11:55:23.787523",
     "exception": false,
     "start_time": "2025-01-20T11:55:23.780828",
     "status": "completed"
    },
    "tags": []
   },
   "source": [
    "Run the next code cell to calculate the cost of engraving `Charlie+Denver` on a solid gold ring."
   ]
  },
  {
   "cell_type": "code",
   "execution_count": 13,
   "id": "8c9d0c65",
   "metadata": {
    "execution": {
     "iopub.execute_input": "2025-01-20T11:55:23.802878Z",
     "iopub.status.busy": "2025-01-20T11:55:23.802482Z",
     "iopub.status.idle": "2025-01-20T11:55:23.807373Z",
     "shell.execute_reply": "2025-01-20T11:55:23.806199Z"
    },
    "papermill": {
     "duration": 0.014891,
     "end_time": "2025-01-20T11:55:23.809351",
     "exception": false,
     "start_time": "2025-01-20T11:55:23.794460",
     "status": "completed"
    },
    "tags": []
   },
   "outputs": [
    {
     "name": "stdout",
     "output_type": "stream",
     "text": [
      "240\n"
     ]
    }
   ],
   "source": [
    "project_one = cost_of_project(\"Charlie+Denver\", True)\n",
    "print(project_one)"
   ]
  },
  {
   "cell_type": "markdown",
   "id": "231d4695",
   "metadata": {
    "papermill": {
     "duration": 0.007151,
     "end_time": "2025-01-20T11:55:23.824625",
     "exception": false,
     "start_time": "2025-01-20T11:55:23.817474",
     "status": "completed"
    },
    "tags": []
   },
   "source": [
    "Use the next code cell to calculate the cost of engraving `08/10/2000` on a gold plated ring."
   ]
  },
  {
   "cell_type": "code",
   "execution_count": 14,
   "id": "48271dd5",
   "metadata": {
    "execution": {
     "iopub.execute_input": "2025-01-20T11:55:23.841474Z",
     "iopub.status.busy": "2025-01-20T11:55:23.841015Z",
     "iopub.status.idle": "2025-01-20T11:55:23.846445Z",
     "shell.execute_reply": "2025-01-20T11:55:23.845249Z"
    },
    "papermill": {
     "duration": 0.01622,
     "end_time": "2025-01-20T11:55:23.848141",
     "exception": false,
     "start_time": "2025-01-20T11:55:23.831921",
     "status": "completed"
    },
    "tags": []
   },
   "outputs": [
    {
     "name": "stdout",
     "output_type": "stream",
     "text": [
      "120\n"
     ]
    }
   ],
   "source": [
    "project_two = cost_of_project(\"08/10/2000\", False)\n",
    "print(project_two)"
   ]
  },
  {
   "cell_type": "markdown",
   "id": "237e9387",
   "metadata": {
    "papermill": {
     "duration": 0.006839,
     "end_time": "2025-01-20T11:55:23.863129",
     "exception": false,
     "start_time": "2025-01-20T11:55:23.856290",
     "status": "completed"
    },
    "tags": []
   },
   "source": [
    "# Keep going\n",
    "\n",
    "Continue to the next lesson to **[learn about conditions and conditional statements](https://www.kaggle.com/alexisbcook/conditions-and-conditional-statements)**."
   ]
  },
  {
   "cell_type": "markdown",
   "id": "1c6efe92",
   "metadata": {
    "papermill": {
     "duration": 0.007381,
     "end_time": "2025-01-20T11:55:23.877914",
     "exception": false,
     "start_time": "2025-01-20T11:55:23.870533",
     "status": "completed"
    },
    "tags": []
   },
   "source": [
    "---\n",
    "\n",
    "\n",
    "\n",
    "\n",
    "*Have questions or comments? Visit the [course discussion forum](https://www.kaggle.com/learn/intro-to-programming/discussion) to chat with other learners.*"
   ]
  }
 ],
 "metadata": {
  "kaggle": {
   "accelerator": "none",
   "dataSources": [],
   "isGpuEnabled": false,
   "isInternetEnabled": false,
   "language": "python",
   "sourceType": "notebook"
  },
  "kernelspec": {
   "display_name": "Python 3",
   "language": "python",
   "name": "python3"
  },
  "language_info": {
   "codemirror_mode": {
    "name": "ipython",
    "version": 3
   },
   "file_extension": ".py",
   "mimetype": "text/x-python",
   "name": "python",
   "nbconvert_exporter": "python",
   "pygments_lexer": "ipython3",
   "version": "3.10.12"
  },
  "papermill": {
   "default_parameters": {},
   "duration": 5.625827,
   "end_time": "2025-01-20T11:55:24.507551",
   "environment_variables": {},
   "exception": null,
   "input_path": "__notebook__.ipynb",
   "output_path": "__notebook__.ipynb",
   "parameters": {},
   "start_time": "2025-01-20T11:55:18.881724",
   "version": "2.3.3"
  }
 },
 "nbformat": 4,
 "nbformat_minor": 5
}
